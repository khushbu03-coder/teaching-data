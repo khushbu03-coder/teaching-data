{
  "nbformat": 4,
  "nbformat_minor": 0,
  "metadata": {
    "colab": {
      "provenance": [],
      "mount_file_id": "16LDqD7axc16QbDLy0Ldv-wztJ2KjycCy",
      "authorship_tag": "ABX9TyP86tcGGnpYEpLAZCmWGA48",
      "include_colab_link": true
    },
    "kernelspec": {
      "name": "python3",
      "display_name": "Python 3"
    },
    "language_info": {
      "name": "python"
    }
  },
  "cells": [
    {
      "cell_type": "markdown",
      "metadata": {
        "id": "view-in-github",
        "colab_type": "text"
      },
      "source": [
        "<a href=\"https://colab.research.google.com/github/khushbu03-coder/teaching-data/blob/master/Khushbu12.ipynb\" target=\"_parent\"><img src=\"https://colab.research.google.com/assets/colab-badge.svg\" alt=\"Open In Colab\"/></a>"
      ]
    },
    {
      "cell_type": "code",
      "metadata": {
        "colab": {
          "base_uri": "https://localhost:8080/"
        },
        "id": "bWj8NEgtyvH5",
        "outputId": "ea4c03e5-7622-42ae-b2c1-78718f94dfe7"
      },
      "source": [
        "import numpy as np\n",
        "import pandas as pd\n",
        "\n",
        "# Load the dataset into a pandas DataFrame\n",
        "# Assuming the dataset is in a file named 'bodyfat.csv' in the /tmp directory\n",
        "try:\n",
        "    df = pd.read_csv('/bodyfat (1).csv')\n",
        "\n",
        "    # Assuming 'df' DataFrame is available from previous steps, containing 'Weight' and 'Height' columns\n",
        "    # Calculate BMI (weight in kg, height in cm, BMI = weight(kg) / (height(m))^2)\n",
        "    # Assuming Weight is in pounds and Height is in inches based on common bodyfat datasets\n",
        "    # Convert weight from pounds to kg (1 lb = 0.453592 kg)\n",
        "    # Convert height from inches to meters (1 inch = 0.0254 meters)\n",
        "    # BMI = (Weight_lbs * 0.453592) / (Height_inches * 0.0254)**2\n",
        "    df['BMI'] = (df['Weight'] * 0.453592) / (df['Height'] * 0.0254)**2\n",
        "    bmi = df['BMI'].values\n",
        "\n",
        "    # Standardize relevant columns for zfemale\n",
        "    # Assuming 'zfemale' should contain standardized body measurements\n",
        "    # Exclude 'Density', 'BodyFat', 'BMI' as they are derived or the target\n",
        "    columns_to_standardize = ['Age', 'Weight', 'Height', 'Neck', 'Chest', 'Abdomen', 'Hip', 'Thigh', 'Knee', 'Ankle', 'Biceps', 'Forearm', 'Wrist']\n",
        "\n",
        "    # Check if all columns to standardize exist in the dataframe\n",
        "    for col in columns_to_standardize:\n",
        "        if col not in df.columns:\n",
        "            print(f\"Error: Column '{col}' not found in the dataset.\")\n",
        "            exit()\n",
        "\n",
        "    zfemale = df[columns_to_standardize].apply(lambda x: (x - x.mean()) / x.std()).values\n",
        "\n",
        "\n",
        "    # Sort indices of BMI in ascending order\n",
        "    sorted_indices = np.argsort(bmi)\n",
        "\n",
        "    # Select indices for 5 lowest and 5 highest BMI individuals\n",
        "    lowest_bmi_indices = sorted_indices[:5]\n",
        "    highest_bmi_indices = sorted_indices[-5:]\n",
        "\n",
        "    # Combine the selected indices\n",
        "    selected_indices = np.concatenate((lowest_bmi_indices, highest_bmi_indices))\n",
        "\n",
        "    # Extract and print the standardized measurements for these individuals\n",
        "    print(\"Standardized body measurements (z-scores) for 5 lowest and 5 highest BMI individuals:\")\n",
        "    print(zfemale[selected_indices])\n",
        "\n",
        "    # Interpret the results\n",
        "    print(\"\\nInterpretation:\")\n",
        "    print(\"The table above shows the standardized body measurements (z-scores) for the 5 individuals with the lowest BMI and the 5 individuals with the highest BMI.\")\n",
        "    print(\"A z-score represents how many standard deviations a measurement is away from the mean.\")\n",
        "    print(\"Positive z-scores indicate measurements above the average, while negative z-scores indicate measurements below the average.\")\n",
        "    print(\"\\nConceptual Interpretation:\")\n",
        "    print(\"- Individuals with lower BMI are expected to have negative z-scores for measurements related to size (Weight, Neck, Chest, Abdomen, Hip, Thigh, Biceps, Forearm, Wrist) and potentially Density (higher density -> negative z-score for density if standardized).\")\n",
        "    print(\"- Individuals with higher BMI are expected to have positive z-scores for these size-related measurements and potentially Density (lower density -> positive z-score for density if standardized).\")\n",
        "    print(\"- Height, Age, Knee, and Ankle measurements may not show as strong or consistent patterns related to BMI extremes.\")\n",
        "    print(\"\\nBy examining the z-scores in the table, you can observe how the body measurements of individuals at the extremes of the BMI range differ from the average person in this dataset.\")\n",
        "\n",
        "except FileNotFoundError:\n",
        "    print(\"Error: 'bodyfat.csv' not found. Please make sure the dataset is in the /tmp directory.\")\n",
        "except Exception as e:\n",
        "    print(f\"An unexpected error occurred: {e}\")"
      ],
      "execution_count": null,
      "outputs": [
        {
          "output_type": "stream",
          "name": "stdout",
          "text": [
            "Standardized body measurements (z-scores) for 5 lowest and 5 highest BMI individuals:\n",
            "[[-0.81649658  0.20601     0.82886247  1.1711868  -0.22810089 -0.81017528\n",
            "  -0.4388952  -1.02775845 -0.80148561  1.10594818 -0.35082321  0.85595754\n",
            "   1.10201653]\n",
            " [ 0.         -1.03659    -0.79282497 -0.03137107 -1.06154646 -0.539296\n",
            "  -0.28214691 -0.78305405 -0.80148561 -1.53871052 -0.35082321 -1.36319164\n",
            "  -1.55802337]\n",
            " [-0.81649658 -1.05294    -1.33338744 -1.18164382 -0.44742867  0.66734802\n",
            "  -0.28214691  1.17458108  1.09091097 -0.09616941 -1.22788123 -0.72914902\n",
            "  -0.22800342]\n",
            " [ 0.          0.95811     0.82886247  0.80519092  0.12282356 -0.74861181\n",
            "  -0.75239176 -0.29364527 -0.57885072  0.62510115  0.52623481  0.85595754\n",
            "   0.53200798]\n",
            " [ 1.63299316  0.92541     0.46848748 -0.76336282  1.61425247  1.43073506\n",
            "   1.75558078  0.92987669  1.09091097 -0.09616941  1.40329283  0.38042557\n",
            "   0.15200228]\n",
            " [-0.81649658  0.20601     0.82886247  1.1711868  -0.22810089 -0.81017528\n",
            "  -0.4388952  -1.02775845 -0.80148561  1.10594818 -0.35082321  0.85595754\n",
            "   1.10201653]\n",
            " [ 0.         -1.03659    -0.79282497 -0.03137107 -1.06154646 -0.539296\n",
            "  -0.28214691 -0.78305405 -0.80148561 -1.53871052 -0.35082321 -1.36319164\n",
            "  -1.55802337]\n",
            " [-0.81649658 -1.05294    -1.33338744 -1.18164382 -0.44742867  0.66734802\n",
            "  -0.28214691  1.17458108  1.09091097 -0.09616941 -1.22788123 -0.72914902\n",
            "  -0.22800342]\n",
            " [ 0.          0.95811     0.82886247  0.80519092  0.12282356 -0.74861181\n",
            "  -0.75239176 -0.29364527 -0.57885072  0.62510115  0.52623481  0.85595754\n",
            "   0.53200798]\n",
            " [ 1.63299316  0.92541     0.46848748 -0.76336282  1.61425247  1.43073506\n",
            "   1.75558078  0.92987669  1.09091097 -0.09616941  1.40329283  0.38042557\n",
            "   0.15200228]]\n",
            "\n",
            "Interpretation:\n",
            "The table above shows the standardized body measurements (z-scores) for the 5 individuals with the lowest BMI and the 5 individuals with the highest BMI.\n",
            "A z-score represents how many standard deviations a measurement is away from the mean.\n",
            "Positive z-scores indicate measurements above the average, while negative z-scores indicate measurements below the average.\n",
            "\n",
            "Conceptual Interpretation:\n",
            "- Individuals with lower BMI are expected to have negative z-scores for measurements related to size (Weight, Neck, Chest, Abdomen, Hip, Thigh, Biceps, Forearm, Wrist) and potentially Density (higher density -> negative z-score for density if standardized).\n",
            "- Individuals with higher BMI are expected to have positive z-scores for these size-related measurements and potentially Density (lower density -> positive z-score for density if standardized).\n",
            "- Height, Age, Knee, and Ankle measurements may not show as strong or consistent patterns related to BMI extremes.\n",
            "\n",
            "By examining the z-scores in the table, you can observe how the body measurements of individuals at the extremes of the BMI range differ from the average person in this dataset.\n"
          ]
        }
      ]
    }
  ]
}