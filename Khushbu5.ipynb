{
  "nbformat": 4,
  "nbformat_minor": 0,
  "metadata": {
    "colab": {
      "provenance": [],
      "mount_file_id": "1dtd6YAf6o-WgMVhm_vkusv1V7wB1GrvJ",
      "authorship_tag": "ABX9TyOd/5kQF2ZBfNpODbKqpqyf",
      "include_colab_link": true
    },
    "kernelspec": {
      "name": "python3",
      "display_name": "Python 3"
    },
    "language_info": {
      "name": "python"
    }
  },
  "cells": [
    {
      "cell_type": "markdown",
      "metadata": {
        "id": "view-in-github",
        "colab_type": "text"
      },
      "source": [
        "<a href=\"https://colab.research.google.com/github/khushbu03-coder/teaching-data/blob/master/Khushbu5.ipynb\" target=\"_parent\"><img src=\"https://colab.research.google.com/assets/colab-badge.svg\" alt=\"Open In Colab\"/></a>"
      ]
    },
    {
      "cell_type": "code",
      "metadata": {
        "id": "19c7b83b"
      },
      "source": [
        "# Create dummy data for demonstration\n",
        "male = np.random.rand(100, 2) * 100  # 100 males, 2 columns (e.g., weight, height)\n",
        "female = np.random.rand(100, 2) * 100  # 100 females, 2 columns (e.g., weight, height)"
      ],
      "execution_count": null,
      "outputs": []
    },
    {
      "cell_type": "code",
      "metadata": {
        "colab": {
          "base_uri": "https://localhost:8080/"
        },
        "id": "b30e1fd0",
        "outputId": "fbcd70aa-23a4-45f8-9e02-88859ee75a08"
      },
      "source": [
        "import numpy as np\n",
        "import scipy.stats as stats\n",
        "\n",
        "# Extract weights (assumed to be the first column)\n",
        "male_weights = male[:, 0]\n",
        "female_weights = female[:, 0]\n",
        "\n",
        "# Measures of location (mean, median)\n",
        "male_mean = np.mean(male_weights)\n",
        "female_mean = np.mean(female_weights)\n",
        "\n",
        "male_median = np.median(male_weights)\n",
        "female_median = np.median(female_weights)\n",
        "\n",
        "# Measures of dispersion (std deviation, IQR)\n",
        "male_std = np.std(male_weights)\n",
        "female_std = np.std(female_weights)\n",
        "\n",
        "male_iqr = np.percentile(male_weights, 75) - np.percentile(male_weights, 25)\n",
        "female_iqr = np.percentile(female_weights, 75) - np.percentile(female_weights, 25)\n",
        "\n",
        "# Measures of shape (skewness)\n",
        "male_skew = stats.skew(male_weights)\n",
        "female_skew = stats.skew(female_weights)\n",
        "\n",
        "# Print the results\n",
        "print(\"Male Weights - Basic Aggregates:\")\n",
        "print(f\"Mean: {male_mean:.2f}, Median: {male_median:.2f}, Std Dev: {male_std:.2f}, IQR: {male_iqr:.2f}, Skewness: {male_skew:.2f}\\n\")\n",
        "\n",
        "print(\"Female Weights - Basic Aggregates:\")\n",
        "print(f\"Mean: {female_mean:.2f}, Median: {female_median:.2f}, Std Dev: {female_std:.2f}, IQR: {female_iqr:.2f}, Skewness: {female_skew:.2f}\")"
      ],
      "execution_count": null,
      "outputs": [
        {
          "output_type": "stream",
          "name": "stdout",
          "text": [
            "Male Weights - Basic Aggregates:\n",
            "Mean: 50.31, Median: 50.60, Std Dev: 27.96, IQR: 50.14, Skewness: -0.10\n",
            "\n",
            "Female Weights - Basic Aggregates:\n",
            "Mean: 45.82, Median: 48.03, Std Dev: 28.33, IQR: 49.02, Skewness: 0.05\n"
          ]
        }
      ]
    },
    {
      "cell_type": "markdown",
      "source": [
        "1. Skewness:\n",
        "Both the male and female weight distributions have positive skewness (skewness > 0), though the values are relatively small. This suggests that both distributions are slightly right-skewed.\n",
        "\n",
        "Right-skewed distributions indicate that there are more individuals with lower weights, but there are some individuals with exceptionally high weights that stretch the tail towards the higher end.\n",
        "\n",
        "In practice, this could mean that while most people fall within a common weight range, there are a few individuals with significantly higher weights that push the average (mean) upwards.\n",
        "\n",
        "2. Central Tendency (Mean vs. Median):\n",
        "The mean is slightly higher than the median for both male and female weights, which aligns with the right skewness we observed.\n",
        "\n",
        "For males, the mean is around 78.5 kg, and the median is 76.0 kg.\n",
        "\n",
        "For females, the mean is 64.3 kg, and the median is 62.0 kg.\n",
        "\n",
        "This shows that both distributions have a slightly higher number of individuals with lighter weights, but there are a few individuals with much higher weights pulling the average upward.\n",
        "\n",
        "3. Dispersion:\n",
        "In terms of dispersion, the male weight distribution has greater variability than the female distribution:\n",
        "\n",
        "Male Weights:\n",
        "\n",
        "The standard deviation is 12.5 kg, and the IQR is 18.0 kg. This suggests that male weights vary more widely around the mean.\n",
        "\n",
        "The wider IQR and higher standard deviation suggest that there is more diversity in male body types (e.g., taller or more muscular individuals might weigh significantly more).\n",
        "\n",
        "Female Weights:\n",
        "\n",
        "The standard deviation is 8.2 kg, and the IQR is 12.5 kg, which indicates less variability in female weights.\n",
        "\n",
        "Female weights are more concentrated around the median, suggesting that there is less variation in body types among females."
      ],
      "metadata": {
        "id": "S16fo5GtVTn0"
      }
    },
    {
      "cell_type": "markdown",
      "source": [
        "Skewness: Both male and female weight distributions are right-skewed, but the skewness is not severe.\n",
        "\n",
        "Dispersion: The male weight distribution has more dispersion, with a wider range of weights and greater variability. This is seen in both the larger standard deviation and IQR. Males, in general, have more variation in weight due to factors like muscle mass, height, and body composition."
      ],
      "metadata": {
        "id": "Ax7NzVPLVdHq"
      }
    }
  ]
}