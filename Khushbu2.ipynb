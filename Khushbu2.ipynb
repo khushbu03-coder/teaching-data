{
  "cells": [
    {
      "cell_type": "markdown",
      "metadata": {
        "id": "view-in-github",
        "colab_type": "text"
      },
      "source": [
        "<a href=\"https://colab.research.google.com/github/khushbu03-coder/teaching-data/blob/master/Khushbu2.ipynb\" target=\"_parent\"><img src=\"https://colab.research.google.com/assets/colab-badge.svg\" alt=\"Open In Colab\"/></a>"
      ]
    },
    {
      "cell_type": "code",
      "execution_count": 1,
      "metadata": {
        "colab": {
          "base_uri": "https://localhost:8080/",
          "height": 110
        },
        "id": "7P_7AvRgp6QQ",
        "outputId": "2a062fe3-5f1c-484c-f1d3-ec8cec1f8edb"
      },
      "outputs": [
        {
          "output_type": "display_data",
          "data": {
            "text/plain": [
              "<IPython.core.display.HTML object>"
            ],
            "text/html": [
              "\n",
              "     <input type=\"file\" id=\"files-fef5fc52-03ba-4526-b803-44b3601dbed7\" name=\"files[]\" multiple disabled\n",
              "        style=\"border:none\" />\n",
              "     <output id=\"result-fef5fc52-03ba-4526-b803-44b3601dbed7\">\n",
              "      Upload widget is only available when the cell has been executed in the\n",
              "      current browser session. Please rerun this cell to enable.\n",
              "      </output>\n",
              "      <script>// Copyright 2017 Google LLC\n",
              "//\n",
              "// Licensed under the Apache License, Version 2.0 (the \"License\");\n",
              "// you may not use this file except in compliance with the License.\n",
              "// You may obtain a copy of the License at\n",
              "//\n",
              "//      http://www.apache.org/licenses/LICENSE-2.0\n",
              "//\n",
              "// Unless required by applicable law or agreed to in writing, software\n",
              "// distributed under the License is distributed on an \"AS IS\" BASIS,\n",
              "// WITHOUT WARRANTIES OR CONDITIONS OF ANY KIND, either express or implied.\n",
              "// See the License for the specific language governing permissions and\n",
              "// limitations under the License.\n",
              "\n",
              "/**\n",
              " * @fileoverview Helpers for google.colab Python module.\n",
              " */\n",
              "(function(scope) {\n",
              "function span(text, styleAttributes = {}) {\n",
              "  const element = document.createElement('span');\n",
              "  element.textContent = text;\n",
              "  for (const key of Object.keys(styleAttributes)) {\n",
              "    element.style[key] = styleAttributes[key];\n",
              "  }\n",
              "  return element;\n",
              "}\n",
              "\n",
              "// Max number of bytes which will be uploaded at a time.\n",
              "const MAX_PAYLOAD_SIZE = 100 * 1024;\n",
              "\n",
              "function _uploadFiles(inputId, outputId) {\n",
              "  const steps = uploadFilesStep(inputId, outputId);\n",
              "  const outputElement = document.getElementById(outputId);\n",
              "  // Cache steps on the outputElement to make it available for the next call\n",
              "  // to uploadFilesContinue from Python.\n",
              "  outputElement.steps = steps;\n",
              "\n",
              "  return _uploadFilesContinue(outputId);\n",
              "}\n",
              "\n",
              "// This is roughly an async generator (not supported in the browser yet),\n",
              "// where there are multiple asynchronous steps and the Python side is going\n",
              "// to poll for completion of each step.\n",
              "// This uses a Promise to block the python side on completion of each step,\n",
              "// then passes the result of the previous step as the input to the next step.\n",
              "function _uploadFilesContinue(outputId) {\n",
              "  const outputElement = document.getElementById(outputId);\n",
              "  const steps = outputElement.steps;\n",
              "\n",
              "  const next = steps.next(outputElement.lastPromiseValue);\n",
              "  return Promise.resolve(next.value.promise).then((value) => {\n",
              "    // Cache the last promise value to make it available to the next\n",
              "    // step of the generator.\n",
              "    outputElement.lastPromiseValue = value;\n",
              "    return next.value.response;\n",
              "  });\n",
              "}\n",
              "\n",
              "/**\n",
              " * Generator function which is called between each async step of the upload\n",
              " * process.\n",
              " * @param {string} inputId Element ID of the input file picker element.\n",
              " * @param {string} outputId Element ID of the output display.\n",
              " * @return {!Iterable<!Object>} Iterable of next steps.\n",
              " */\n",
              "function* uploadFilesStep(inputId, outputId) {\n",
              "  const inputElement = document.getElementById(inputId);\n",
              "  inputElement.disabled = false;\n",
              "\n",
              "  const outputElement = document.getElementById(outputId);\n",
              "  outputElement.innerHTML = '';\n",
              "\n",
              "  const pickedPromise = new Promise((resolve) => {\n",
              "    inputElement.addEventListener('change', (e) => {\n",
              "      resolve(e.target.files);\n",
              "    });\n",
              "  });\n",
              "\n",
              "  const cancel = document.createElement('button');\n",
              "  inputElement.parentElement.appendChild(cancel);\n",
              "  cancel.textContent = 'Cancel upload';\n",
              "  const cancelPromise = new Promise((resolve) => {\n",
              "    cancel.onclick = () => {\n",
              "      resolve(null);\n",
              "    };\n",
              "  });\n",
              "\n",
              "  // Wait for the user to pick the files.\n",
              "  const files = yield {\n",
              "    promise: Promise.race([pickedPromise, cancelPromise]),\n",
              "    response: {\n",
              "      action: 'starting',\n",
              "    }\n",
              "  };\n",
              "\n",
              "  cancel.remove();\n",
              "\n",
              "  // Disable the input element since further picks are not allowed.\n",
              "  inputElement.disabled = true;\n",
              "\n",
              "  if (!files) {\n",
              "    return {\n",
              "      response: {\n",
              "        action: 'complete',\n",
              "      }\n",
              "    };\n",
              "  }\n",
              "\n",
              "  for (const file of files) {\n",
              "    const li = document.createElement('li');\n",
              "    li.append(span(file.name, {fontWeight: 'bold'}));\n",
              "    li.append(span(\n",
              "        `(${file.type || 'n/a'}) - ${file.size} bytes, ` +\n",
              "        `last modified: ${\n",
              "            file.lastModifiedDate ? file.lastModifiedDate.toLocaleDateString() :\n",
              "                                    'n/a'} - `));\n",
              "    const percent = span('0% done');\n",
              "    li.appendChild(percent);\n",
              "\n",
              "    outputElement.appendChild(li);\n",
              "\n",
              "    const fileDataPromise = new Promise((resolve) => {\n",
              "      const reader = new FileReader();\n",
              "      reader.onload = (e) => {\n",
              "        resolve(e.target.result);\n",
              "      };\n",
              "      reader.readAsArrayBuffer(file);\n",
              "    });\n",
              "    // Wait for the data to be ready.\n",
              "    let fileData = yield {\n",
              "      promise: fileDataPromise,\n",
              "      response: {\n",
              "        action: 'continue',\n",
              "      }\n",
              "    };\n",
              "\n",
              "    // Use a chunked sending to avoid message size limits. See b/62115660.\n",
              "    let position = 0;\n",
              "    do {\n",
              "      const length = Math.min(fileData.byteLength - position, MAX_PAYLOAD_SIZE);\n",
              "      const chunk = new Uint8Array(fileData, position, length);\n",
              "      position += length;\n",
              "\n",
              "      const base64 = btoa(String.fromCharCode.apply(null, chunk));\n",
              "      yield {\n",
              "        response: {\n",
              "          action: 'append',\n",
              "          file: file.name,\n",
              "          data: base64,\n",
              "        },\n",
              "      };\n",
              "\n",
              "      let percentDone = fileData.byteLength === 0 ?\n",
              "          100 :\n",
              "          Math.round((position / fileData.byteLength) * 100);\n",
              "      percent.textContent = `${percentDone}% done`;\n",
              "\n",
              "    } while (position < fileData.byteLength);\n",
              "  }\n",
              "\n",
              "  // All done.\n",
              "  yield {\n",
              "    response: {\n",
              "      action: 'complete',\n",
              "    }\n",
              "  };\n",
              "}\n",
              "\n",
              "scope.google = scope.google || {};\n",
              "scope.google.colab = scope.google.colab || {};\n",
              "scope.google.colab._files = {\n",
              "  _uploadFiles,\n",
              "  _uploadFilesContinue,\n",
              "};\n",
              "})(self);\n",
              "</script> "
            ]
          },
          "metadata": {}
        },
        {
          "output_type": "stream",
          "name": "stdout",
          "text": [
            "Saving bodyfat.csv to bodyfat.csv\n",
            "{'bodyfat.csv': b'Density,BodyFat,Age,Weight,Height,Neck,Chest,Abdomen,Hip,Thigh,Knee,Ankle,Biceps,Forearm,Wrist\\n1.0708,12.6,23,154.25,67.75,36.2,93.1,85.2,94.5,59.0,37.3,21.9,32.0,27.4,17.1\\n1.0853,6.9,22,173.25,72.25,38.5,95.0,83.0,94.0,58.5,37.3,23.0,32.0,28.8,18.5\\n1.0414,24.6,22,154.0,66.25,34.0,94.5,95.0,94.5,63.0,39.0,22.5,31.5,27.8,17.8\\n1.0751,10.9,23,184.75,72.25,37.8,95.8,83.5,93.0,60.0,37.5,22.8,32.5,28.8,18.2\\n1.034,28.7,25,184.25,71.25,34.8,99.2,101.2,101.0,62.5,39.0,22.5,33.0,28.5,18.0\\n'}\n"
          ]
        }
      ],
      "source": [
        "from google.colab import files\n",
        "uploaded=files.upload()\n",
        "print(uploaded)"
      ]
    },
    {
      "cell_type": "code",
      "execution_count": null,
      "metadata": {
        "colab": {
          "base_uri": "https://localhost:8080/"
        },
        "id": "g6jAA4LqtZPo",
        "outputId": "cb998236-d93c-4fa4-ef8f-8281f5e4750c"
      },
      "outputs": [
        {
          "name": "stdout",
          "output_type": "stream",
          "text": [
            "Drive already mounted at /content/drive; to attempt to forcibly remount, call drive.mount(\"/content/drive\", force_remount=True).\n"
          ]
        }
      ],
      "source": [
        "from google.colab import drive\n",
        "drive.mount('/content/drive')"
      ]
    },
    {
      "cell_type": "code",
      "execution_count": null,
      "metadata": {
        "colab": {
          "base_uri": "https://localhost:8080/"
        },
        "id": "tpPlq3f-t4tE",
        "outputId": "dfc36e0f-8c0f-47c6-e4a9-6b0de1b92222"
      },
      "outputs": [
        {
          "name": "stdout",
          "output_type": "stream",
          "text": [
            " 17250993691946600647599510803310.jpg\n",
            " 6923_19082024185543.pdf\n",
            "'APznzaat6rB0Iow_3Sj_pwX9RLfg3VbxyhiCrU6MUQcw7Hh3R2KSGiXxxdH92fMJHXQFkwOzc_PbQDh2PgUXmlcx5E9jSADRaKaJ3IrY3Q...6_r1yBl10CS2DG8iqhBJerW5BXLfygApdLZlCNRxmKDdT_yfJqasJa3EGCAc-n7WuNIik1PDINEVJoQLpfvvwb59KF4YR8Jcz9U_-c5HZg_tXAb1UAQGXBUG4=.pdf'\n",
            " Assignments_Practical.pdf\n",
            "'CA-102_CS-104 OS Question Bank.pdf'\n",
            "'Colab Notebooks'\n",
            " IMG-20250603-WA0005.jpg\n",
            "'java practicals-v.pdf'\n",
            " Khairiyat__08_48_37.wav\n",
            " Untitled10.ipynb\n",
            "'Web Designing UNIT I & II (1).gslides'\n",
            "'Web Designing UNIT I & II.gslides'\n"
          ]
        }
      ],
      "source": [
        "!ls /content/drive/MyDrive/"
      ]
    },
    {
      "cell_type": "code",
      "metadata": {
        "colab": {
          "base_uri": "https://localhost:8080/"
        },
        "id": "3c5811d1",
        "outputId": "fce613cb-5e5b-4ca3-9fe3-6322e3ab6e3f"
      },
      "source": [
        "import pandas as pd\n",
        "\n",
        "# Load the uploaded data\n",
        "df = pd.read_csv('bodyfat.csv')\n",
        "\n",
        "print(df.head())"
      ],
      "execution_count": 6,
      "outputs": [
        {
          "output_type": "stream",
          "name": "stdout",
          "text": [
            "   Density  BodyFat  Age  Weight  Height  Neck  Chest  Abdomen    Hip  Thigh  \\\n",
            "0   1.0708     12.6   23  154.25   67.75  36.2   93.1     85.2   94.5   59.0   \n",
            "1   1.0853      6.9   22  173.25   72.25  38.5   95.0     83.0   94.0   58.5   \n",
            "2   1.0414     24.6   22  154.00   66.25  34.0   94.5     95.0   94.5   63.0   \n",
            "3   1.0751     10.9   23  184.75   72.25  37.8   95.8     83.5   93.0   60.0   \n",
            "4   1.0340     28.7   25  184.25   71.25  34.8   99.2    101.2  101.0   62.5   \n",
            "\n",
            "   Knee  Ankle  Biceps  Forearm  Wrist  \n",
            "0  37.3   21.9    32.0     27.4   17.1  \n",
            "1  37.3   23.0    32.0     28.8   18.5  \n",
            "2  39.0   22.5    31.5     27.8   17.8  \n",
            "3  37.5   22.8    32.5     28.8   18.2  \n",
            "4  39.0   22.5    33.0     28.5   18.0  \n"
          ]
        }
      ]
    },
    {
      "cell_type": "code",
      "source": [
        "import numpy as np\n",
        "import pandas as pd\n",
        "\n",
        "# Set correct file paths based on your Google Drive\n",
        "# male_path = '/content/sample_data/BodyFatDatamale.csv' # Uncomment and update if this file exists\n",
        "# female_path = '/content/sample_data/BodyFatDatafemale.csv' # Uncomment and update if this file exists\n",
        "\n",
        "# Load CSVs using pandas\n",
        "# male_df = pd.read_csv(male_path) # Uncomment if male_path is set and file exists\n",
        "# female_df = pd.read_csv(female_path) # Uncomment if female_path is set and file exists\n",
        "\n",
        "# Using the previously loaded dataframe 'df' from bodyfat.csv\n",
        "# Make sure the column names match those in your dataframe 'df'\n",
        "selected_columns = [\n",
        "    'Weight',                  # kg\n",
        "    'Height',         # cm\n",
        "    # 'upper arm length',        # cm # Column not in the loaded dataframe\n",
        "    # 'upper leg length',        # cm # Column not in the loaded dataframe\n",
        "    'Biceps',       # cm # Approximating with Biceps\n",
        "    'Hip',       # cm\n",
        "    'Abdomen'      # cm # Approximating with Abdomen\n",
        "]\n",
        "\n",
        "# Convert selected columns to NumPy arrays\n",
        "# Assuming 'df' is the dataframe loaded from 'bodyfat.csv'\n",
        "# You might need to adjust column names to match your actual data\n",
        "male = df[selected_columns].to_numpy()\n",
        "# female = female_df[selected_columns].to_numpy() # Commented out as female_df is not loaded\n",
        "\n",
        "# Optional: check shapes\n",
        "print(\"male shape:\", male.shape)\n",
        "# print(\"female shape:\", female.shape) # Commented out\n",
        "\n",
        "# Optional: preview\n",
        "print(\"First 3 rows of male:\\n\", male[:3])\n",
        "# print(\"First 3 rows of female:\\n\", female[:3]) # Commented out"
      ],
      "metadata": {
        "colab": {
          "base_uri": "https://localhost:8080/"
        },
        "id": "5YGSV9ka20Y0",
        "outputId": "a3582429-9046-4192-9762-1229bb1e3420"
      },
      "execution_count": 12,
      "outputs": [
        {
          "output_type": "stream",
          "name": "stdout",
          "text": [
            "male shape: (5, 5)\n",
            "First 3 rows of male:\n",
            " [[154.25  67.75  32.    94.5   85.2 ]\n",
            " [173.25  72.25  32.    94.    83.  ]\n",
            " [154.    66.25  31.5   94.5   95.  ]]\n"
          ]
        }
      ]
    }
  ],
  "metadata": {
    "colab": {
      "provenance": [],
      "mount_file_id": "1Vt6ZeHfwC2tYfUZ11GX6B9PfFOY0yzkI",
      "authorship_tag": "ABX9TyPMPRjSZi2yST8Q6R2Byize",
      "include_colab_link": true
    },
    "kernelspec": {
      "display_name": "Python 3",
      "name": "python3"
    },
    "language_info": {
      "name": "python"
    }
  },
  "nbformat": 4,
  "nbformat_minor": 0
}