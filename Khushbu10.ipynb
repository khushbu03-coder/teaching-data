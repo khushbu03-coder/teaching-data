{
  "nbformat": 4,
  "nbformat_minor": 0,
  "metadata": {
    "colab": {
      "provenance": [],
      "mount_file_id": "17ORRIwpR0g5Q2ZSU2Hw3UysdgqArMWTU",
      "authorship_tag": "ABX9TyMcGP7UABlaOt2JbGoEtFd2",
      "include_colab_link": true
    },
    "kernelspec": {
      "name": "python3",
      "display_name": "Python 3"
    },
    "language_info": {
      "name": "python"
    }
  },
  "cells": [
    {
      "cell_type": "markdown",
      "metadata": {
        "id": "view-in-github",
        "colab_type": "text"
      },
      "source": [
        "<a href=\"https://colab.research.google.com/github/khushbu03-coder/teaching-data/blob/master/Khushbu10.ipynb\" target=\"_parent\"><img src=\"https://colab.research.google.com/assets/colab-badge.svg\" alt=\"Open In Colab\"/></a>"
      ]
    },
    {
      "cell_type": "markdown",
      "source": [
        " Step 1: Calculate Ratios"
      ],
      "metadata": {
        "id": "wApxgmqA-9qW"
      }
    },
    {
      "cell_type": "code",
      "execution_count": 1,
      "metadata": {
        "colab": {
          "base_uri": "https://localhost:8080/"
        },
        "id": "80Zha9KM-eAF",
        "outputId": "db7ff8be-bc23-47c2-ad1e-50eef4d764c2"
      },
      "outputs": [
        {
          "output_type": "execute_result",
          "data": {
            "text/plain": [
              "['Waist', 'Hip', 'Height']"
            ]
          },
          "metadata": {},
          "execution_count": 1
        }
      ],
      "source": [
        "['Waist', 'Hip', 'Height']"
      ]
    },
    {
      "cell_type": "code",
      "source": [
        "import pandas as pd\n",
        "import matplotlib.pyplot as plt\n",
        "\n",
        "# Example data (replace with your actual data)\n",
        "# male_data = pd.DataFrame({'Waist': [...], 'Hip': [...], 'Height': [...]})\n",
        "# female_data = pd.DataFrame({'Waist': [...], 'Hip': [...], 'Height': [...]})\n",
        "\n",
        "# Compute ratios\n",
        "male_waist_height = male_data['Waist'] / male_data['Height']\n",
        "female_waist_height = female_data['Waist'] / female_data['Height']\n",
        "\n",
        "male_waist_hip = male_data['Waist'] / male_data['Hip']\n",
        "female_waist_hip = female_data['Waist'] / female_data['Hip']\n"
      ],
      "metadata": {
        "id": "3LGDuavr_YcC"
      },
      "execution_count": 4,
      "outputs": []
    },
    {
      "cell_type": "code",
      "metadata": {
        "id": "dc2540a5"
      },
      "source": [
        "# Dummy data (replace with your actual data)\n",
        "male_data = pd.DataFrame({\n",
        "    'Waist': [80, 85, 90],\n",
        "    'Hip': [90, 95, 100],\n",
        "    'Height': [170, 175, 180]\n",
        "})\n",
        "\n",
        "female_data = pd.DataFrame({\n",
        "    'Waist': [70, 75, 80],\n",
        "    'Hip': [85, 90, 95],\n",
        "    'Height': [160, 165, 170]\n",
        "})"
      ],
      "execution_count": 3,
      "outputs": []
    },
    {
      "cell_type": "markdown",
      "source": [
        "Step 2: Draw Box-and-Whisker Plot\n",
        "python\n",
        "Copy\n",
        "Edit"
      ],
      "metadata": {
        "id": "MSkj5EGw_kZB"
      }
    },
    {
      "cell_type": "code",
      "source": [
        "# Organize data\n",
        "data = [female_waist_height, male_waist_height, female_waist_hip, male_waist_hip]\n",
        "labels = ['Female W/Ht', 'Male W/Ht', 'Female W/Hip', 'Male W/Hip']\n",
        "\n",
        "# Plot\n",
        "plt.figure(figsize=(10, 6))\n",
        "plt.boxplot(data, labels=labels)\n",
        "plt.title('Comparison of Waist-to-Height and Waist-to-Hip Ratios by Gender')\n",
        "plt.ylabel('Ratio')\n",
        "plt.grid(True)\n",
        "plt.show()\n"
      ],
      "metadata": {
        "colab": {
          "base_uri": "https://localhost:8080/",
          "height": 600
        },
        "id": "UpLRCSNg_r4w",
        "outputId": "9167e390-0fad-47d8-a1b1-99be4cbbbece"
      },
      "execution_count": 5,
      "outputs": [
        {
          "output_type": "stream",
          "name": "stderr",
          "text": [
            "/tmp/ipython-input-5-3375464530.py:7: MatplotlibDeprecationWarning: The 'labels' parameter of boxplot() has been renamed 'tick_labels' since Matplotlib 3.9; support for the old name will be dropped in 3.11.\n",
            "  plt.boxplot(data, labels=labels)\n"
          ]
        },
        {
          "output_type": "display_data",
          "data": {
            "text/plain": [
              "<Figure size 1000x600 with 1 Axes>"
            ],
            "image/png": "[encoded data removed]"
          },
          "metadata": {}
        }
      ]
    },
    {
      "cell_type": "markdown",
      "source": [
        "How to Interpret the Plot\n",
        "Waist-to-Height Ratio:\n",
        "This is a good indicator of central obesity. A ratio above 0.5 often suggests elevated health risk.\n",
        "\n",
        "If both male and female medians are above 0.5, that may indicate a high prevalence of abdominal fat.\n",
        "\n",
        "Compare spread (IQR), median, and any outliers.\n",
        "\n",
        "Waist-to-Hip Ratio:\n",
        "Another obesity indicator; WHO thresholds:\n",
        "\n",
        "Men: risk if > 0.90\n",
        "\n",
        "Women: risk if > 0.85\n",
        "\n",
        "If males show higher ratios, it may reflect typical male fat distribution (more abdominal).\n",
        "\n",
        "Females tend to have lower waist-to-hip ratios (pear-shaped distribution)."
      ],
      "metadata": {
        "id": "p6hTm66E_8X7"
      }
    },
    {
      "cell_type": "markdown",
      "source": [],
      "metadata": {
        "id": "TV6c5Wlf_8Uf"
      }
    },
    {
      "cell_type": "markdown",
      "source": [
        "Example Interpretation:\n",
        "The plot shows that males generally have a higher waist-to-hip ratio than females, consistent with male fat distribution patterns. Waist-to-height ratios for both genders may be similar, though males might show a slightly higher median and narrower IQR, indicating less variation. Outliers above 0.6 for W/Ht may suggest individuals with particularly high abdominal fat."
      ],
      "metadata": {
        "id": "wVq8vdBd_-NY"
      }
    }
  ]
}