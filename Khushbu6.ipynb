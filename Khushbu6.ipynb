{
  "nbformat": 4,
  "nbformat_minor": 0,
  "metadata": {
    "colab": {
      "provenance": [],
      "mount_file_id": "1kqv6f0_R6HW91cw0BJv-HrLokRa25EYc",
      "authorship_tag": "ABX9TyObf7oWQNkxxl8tGV+XA+e+",
      "include_colab_link": true
    },
    "kernelspec": {
      "name": "python3",
      "display_name": "Python 3"
    },
    "language_info": {
      "name": "python"
    }
  },
  "cells": [
    {
      "cell_type": "markdown",
      "metadata": {
        "id": "view-in-github",
        "colab_type": "text"
      },
      "source": [
        "<a href=\"https://colab.research.google.com/github/khushbu03-coder/teaching-data/blob/master/Khushbu6.ipynb\" target=\"_parent\"><img src=\"https://colab.research.google.com/assets/colab-badge.svg\" alt=\"Open In Colab\"/></a>"
      ]
    },
    {
      "cell_type": "code",
      "metadata": {
        "id": "c474b852"
      },
      "source": [
        "import numpy as np\n",
        "\n",
        "# Create a sample female matrix (replace with your actual data loading)\n",
        "# This sample has 7 columns (adjust as needed)\n",
        "female = np.random.rand(10, 7) * 100 # Example: 10 rows, 7 columns with random data"
      ],
      "execution_count": 1,
      "outputs": []
    },
    {
      "cell_type": "code",
      "source": [
        "# Extract weight (kg) and height (cm) from the female matrix\n",
        "female_weights = female[:, 0]  # weight is the first column\n",
        "female_heights = female[:, 1]  # height is the second column\n",
        "\n",
        "# Calculate BMI: BMI = weight (kg) / (height (m))^2\n",
        "female_bmi = female_weights / (female_heights / 100)**2\n",
        "\n",
        "# Add the BMI column to the female matrix\n",
        "female_with_bmi = np.column_stack((female, female_bmi))\n",
        "\n",
        "# Check the updated matrix shape and preview\n",
        "print(female_with_bmi.shape)  # Should have 8 columns now\n",
        "print(\"\\nUpdated Female Data (First 5 rows with BMI):\")\n",
        "print(female_with_bmi[:5])  # Preview the first 5 rows with BMI\n"
      ],
      "metadata": {
        "colab": {
          "base_uri": "https://localhost:8080/"
        },
        "id": "6vsJ7OxCYHfZ",
        "outputId": "0eeb1f66-8704-4070-cf53-d2ac617e9f81"
      },
      "execution_count": 2,
      "outputs": [
        {
          "output_type": "stream",
          "name": "stdout",
          "text": [
            "(10, 8)\n",
            "\n",
            "Updated Female Data (First 5 rows with BMI):\n",
            "[[ 70.14456461  29.4094518   18.76029745  28.39158603   6.20881913\n",
            "    6.79093675  95.05221219 810.9987141 ]\n",
            " [ 28.04959503  94.4652133   18.14979218  97.49201266  39.51539866\n",
            "   95.48038418  72.57801496  31.43277881]\n",
            " [ 51.80700371  32.65852185  51.85028023  59.75600382  51.33942741\n",
            "   94.07843568  90.68666865 485.73055822]\n",
            " [ 32.04398592  91.1189649   29.33055475  58.11696108  44.19788588\n",
            "   50.79027468  40.44796887  38.5948162 ]\n",
            " [ 78.55114886  41.95518979  22.99039587  82.62671198   1.23948068\n",
            "   84.6288854   94.58863749 446.25301269]]\n"
          ]
        }
      ]
    }
  ]
}